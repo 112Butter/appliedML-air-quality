{
 "cells": [
  {
   "cell_type": "code",
   "execution_count": 17,
   "id": "7ee59857",
   "metadata": {},
   "outputs": [
    {
     "name": "stdout",
     "output_type": "stream",
     "text": [
      "Current Working Directory: d:\\Studium\\Excercises\\Applied ML\\appliedML-air-quality\\notebooks\n",
      "Project Root Added to Path: d:\\Studium\\Excercises\\Applied ML\\appliedML-air-quality\n",
      "Courselib Path Added to Path: d:\\Studium\\Excercises\\Applied ML\\AppliedML\n",
      "sys.path: ['d:\\\\Studium\\\\Excercises\\\\Applied ML\\\\AppliedML', 'd:\\\\Studium\\\\Excercises\\\\Applied ML\\\\appliedML-air-quality\\\\notebooks', 'd:\\\\Studium\\\\Excercises\\\\Applied ML\\\\appliedML-air-quality\\\\AppliedML', 'd:\\\\Studium\\\\Excercises\\\\Applied ML\\\\appliedML-air-quality', 'C:\\\\Users\\\\user\\\\.conda\\\\envs\\\\applied_ml\\\\python310.zip', 'C:\\\\Users\\\\user\\\\.conda\\\\envs\\\\applied_ml\\\\DLLs', 'C:\\\\Users\\\\user\\\\.conda\\\\envs\\\\applied_ml\\\\lib', 'C:\\\\Users\\\\user\\\\.conda\\\\envs\\\\applied_ml', 'd:\\\\Studium\\\\Excercises\\\\Applied ML\\\\appliedML-air-quality\\\\.venv', '', 'd:\\\\Studium\\\\Excercises\\\\Applied ML\\\\appliedML-air-quality\\\\.venv\\\\lib\\\\site-packages', 'd:\\\\Studium\\\\Excercises\\\\Applied ML\\\\appliedML-air-quality\\\\.venv\\\\lib\\\\site-packages\\\\win32', 'd:\\\\Studium\\\\Excercises\\\\Applied ML\\\\appliedML-air-quality\\\\.venv\\\\lib\\\\site-packages\\\\win32\\\\lib', 'd:\\\\Studium\\\\Excercises\\\\Applied ML\\\\appliedML-air-quality\\\\.venv\\\\lib\\\\site-packages\\\\Pythonwin']\n",
      "Setup and Imports Complete!\n"
     ]
    }
   ],
   "source": [
    "# Cell 1: Setup and Imports\n",
    "\n",
    "import sys\n",
    "import os\n",
    "import numpy as np\n",
    "import pandas as pd\n",
    "import logging\n",
    "import math # For sqrt\n",
    "\n",
    "# --- Path Management ---\n",
    "# Add the project root to sys.path to allow imports from src/\n",
    "# Assuming the notebook is run from the 'notebooks' directory, or project root.\n",
    "# Adjust 'project_root' if your notebook is deeper than 'notebooks'\n",
    "notebook_dir = os.getcwd()\n",
    "project_root = os.path.abspath(os.path.join(notebook_dir, '..'))\n",
    "\n",
    "if project_root not in sys.path:\n",
    "    sys.path.insert(0, project_root)\n",
    "\n",
    "# Add courselib path as well, if it's outside the project root structure\n",
    "# (This assumes AppliedML is a sibling directory to your project directory)\n",
    "courselib_path = os.path.abspath(os.path.join(project_root, '..', 'AppliedML'))\n",
    "if courselib_path not in sys.path:\n",
    "    sys.path.insert(0, courselib_path)\n",
    "\n",
    "print(f\"Current Working Directory: {os.getcwd()}\")\n",
    "print(f\"Project Root Added to Path: {project_root}\")\n",
    "print(f\"Courselib Path Added to Path: {courselib_path}\")\n",
    "print(f\"sys.path: {sys.path}\")\n",
    "\n",
    "\n",
    "# --- Imports from your project ---\n",
    "from src.data.data_processor import AirQualityProcessor\n",
    "from src.features.feature_engineer import LagFeatureEngineer\n",
    "from src.models.train_model_class_final import ModelEvaluator, custom_standard_scaler\n",
    "from src.utils.config import TARGET_POLLUTANT, START_DATE, END_DATE, LAG_DEPTH\n",
    "from src.visualization.analysis import plot_error_by_time_group\n",
    "\n",
    "# --- Imports from courselib ---\n",
    "from courselib.models.linear_models import LinearRegression\n",
    "from courselib.optimizers import GDOptimizer\n",
    "from courselib.utils.metrics import mean_squared_error, mean_absolute_error # Not strictly needed here, but good to have if you ever want custom metric printouts\n",
    "\n",
    "# --- Imports from scikit-learn ---\n",
    "from sklearn.linear_model import LinearRegression as SklearnLinearRegression\n",
    "from sklearn.linear_model import Ridge\n",
    "\n",
    "\n",
    "# --- Logging Configuration ---\n",
    "# Configure logging to display messages in the notebook output\n",
    "logging.basicConfig(level=logging.INFO,\n",
    "                    format='%(asctime)s - %(name)s - %(levelname)s - %(message)s',\n",
    "                    stream=sys.stdout) # Ensure logs go to stdout, visible in Jupyter\n",
    "logger = logging.getLogger(__name__) # Get a logger for the notebook itself\n",
    "\n",
    "print(\"Setup and Imports Complete!\")"
   ]
  },
  {
   "cell_type": "code",
   "execution_count": 18,
   "id": "45766d3e",
   "metadata": {},
   "outputs": [
    {
     "name": "stdout",
     "output_type": "stream",
     "text": [
      "--- Pipeline Configuration ---\n",
      "Target Pollutant: NO2(GT)\n",
      "Data Start Date: 10/03/2004\n",
      "Data End Date: 08/06/2004\n",
      "Lag Depth for Features: 24\n",
      "------------------------------\n",
      "Training Data Fraction: 0.8\n",
      "------------------------------\n"
     ]
    }
   ],
   "source": [
    "# Cell 2: Configuration\n",
    "\n",
    "print(\"--- Pipeline Configuration ---\")\n",
    "print(f\"Target Pollutant: {TARGET_POLLUTANT}\")\n",
    "print(f\"Data Start Date: {START_DATE}\")\n",
    "print(f\"Data End Date: {END_DATE}\")\n",
    "print(f\"Lag Depth for Features: {LAG_DEPTH}\")\n",
    "print(\"-\" * 30)\n",
    "\n",
    "# Define training fraction for ModelEvaluator\n",
    "TRAINING_DATA_FRACTION = 0.8\n",
    "print(f\"Training Data Fraction: {TRAINING_DATA_FRACTION}\")\n",
    "print(\"-\" * 30)"
   ]
  },
  {
   "cell_type": "code",
   "execution_count": 19,
   "id": "a14b74b8",
   "metadata": {},
   "outputs": [
    {
     "name": "stderr",
     "output_type": "stream",
     "text": [
      "2025-07-15 01:54:36,785 - INFO - --- Starting Data Processing ---\n",
      "2025-07-15 01:54:37,012 - INFO - AirQualityProcessor completed. Time series loaded.\n"
     ]
    },
    {
     "name": "stdout",
     "output_type": "stream",
     "text": [
      "Raw data loaded and initially parsed.\n",
      "Data prepared for NO2(GT) from 10/03/2004 to 08/06/2004.\n",
      "Shape: (1716,), Missing values: 0\n",
      "\n",
      "First 5 entries of prepared series:\n",
      "DateTime\n",
      "2004-03-10 18:00:00    113.0\n",
      "2004-03-10 19:00:00     92.0\n",
      "2004-03-10 20:00:00    114.0\n",
      "2004-03-10 21:00:00    122.0\n",
      "2004-03-10 22:00:00    116.0\n",
      "Name: NO2(GT), dtype: float64\n",
      "\n",
      "Last 5 entries of prepared series:\n",
      "DateTime\n",
      "2004-06-08 19:00:00    170.0\n",
      "2004-06-08 20:00:00    143.0\n",
      "2004-06-08 21:00:00    123.0\n",
      "2004-06-08 22:00:00     89.0\n",
      "2004-06-08 23:00:00     67.0\n",
      "Name: NO2(GT), dtype: float64\n",
      "Time Series Head:\n",
      "DateTime\n",
      "2004-03-10 18:00:00    113.0\n",
      "2004-03-10 19:00:00     92.0\n",
      "2004-03-10 20:00:00    114.0\n",
      "2004-03-10 21:00:00    122.0\n",
      "2004-03-10 22:00:00    116.0\n",
      "Name: NO2(GT), dtype: float64\n",
      "Time Series Shape: (1716,)\n"
     ]
    }
   ],
   "source": [
    "# Cell 3: Data Processing\n",
    "\n",
    "logger.info(\"--- Starting Data Processing ---\")\n",
    "processor = AirQualityProcessor(\n",
    "    target_pollutant=TARGET_POLLUTANT,\n",
    "    start_date=START_DATE,\n",
    "    end_date=END_DATE\n",
    ")\n",
    "time_series = processor.get_target_time_series()\n",
    "logger.info(\"AirQualityProcessor completed. Time series loaded.\")\n",
    "print(f\"Time Series Head:\\n{time_series.head()}\")\n",
    "print(f\"Time Series Shape: {time_series.shape}\")"
   ]
  },
  {
   "cell_type": "code",
   "execution_count": 20,
   "id": "5036237f",
   "metadata": {},
   "outputs": [
    {
     "name": "stderr",
     "output_type": "stream",
     "text": [
      "2025-07-15 01:54:37,046 - INFO - --- Starting Feature Engineering ---\n",
      "2025-07-15 01:54:37,078 - INFO - LagFeatureEngineer completed. Supervised data prepared.\n"
     ]
    },
    {
     "name": "stdout",
     "output_type": "stream",
     "text": [
      "Generating 24 lag features and aligning target vector...\n",
      "Lagged DataFrame Head:\n",
      "                     Target  lag_1  lag_2  lag_3  lag_4  lag_5  lag_6  lag_7  \\\n",
      "DateTime                                                                       \n",
      "2004-03-11 19:00:00   172.0  151.0  135.0  131.0  126.0  128.0  112.0   95.0   \n",
      "2004-03-11 20:00:00   165.0  172.0  151.0  135.0  131.0  126.0  128.0  112.0   \n",
      "2004-03-11 21:00:00   136.0  165.0  172.0  151.0  135.0  131.0  126.0  128.0   \n",
      "2004-03-11 22:00:00    85.0  136.0  165.0  172.0  151.0  135.0  131.0  126.0   \n",
      "2004-03-11 23:00:00    53.0   85.0  136.0  165.0  172.0  151.0  135.0  131.0   \n",
      "\n",
      "                     lag_8  lag_9  ...  lag_15  lag_16  lag_17  lag_18  \\\n",
      "DateTime                           ...                                   \n",
      "2004-03-11 19:00:00   92.0   98.0  ...    34.0    60.0    76.0    77.0   \n",
      "2004-03-11 20:00:00   95.0   92.0  ...    28.0    34.0    60.0    76.0   \n",
      "2004-03-11 21:00:00  112.0   95.0  ...    48.0    28.0    34.0    60.0   \n",
      "2004-03-11 22:00:00  128.0  112.0  ...    82.0    48.0    28.0    34.0   \n",
      "2004-03-11 23:00:00  126.0  128.0  ...   112.0    82.0    48.0    28.0   \n",
      "\n",
      "                     lag_19  lag_20  lag_21  lag_22  lag_23  lag_24  \n",
      "DateTime                                                             \n",
      "2004-03-11 19:00:00    96.0   116.0   122.0   114.0    92.0   113.0  \n",
      "2004-03-11 20:00:00    77.0    96.0   116.0   122.0   114.0    92.0  \n",
      "2004-03-11 21:00:00    76.0    77.0    96.0   116.0   122.0   114.0  \n",
      "2004-03-11 22:00:00    60.0    76.0    77.0    96.0   116.0   122.0  \n",
      "2004-03-11 23:00:00    34.0    60.0    76.0    77.0    96.0   116.0  \n",
      "\n",
      "[5 rows x 25 columns]\n",
      "Lagged DataFrame Shape: (1692, 25)\n"
     ]
    }
   ],
   "source": [
    "# Cell 4: Feature Engineering\n",
    "\n",
    "logger.info(\"--- Starting Feature Engineering ---\")\n",
    "feature_engineer = LagFeatureEngineer(lag_depth=LAG_DEPTH)\n",
    "df_lagged_features = feature_engineer.prepare_supervised_data(time_series, return_separate=False)\n",
    "logger.info(\"LagFeatureEngineer completed. Supervised data prepared.\")\n",
    "print(f\"Lagged DataFrame Head:\\n{df_lagged_features.head()}\")\n",
    "print(f\"Lagged DataFrame Shape: {df_lagged_features.shape}\")"
   ]
  },
  {
   "cell_type": "code",
   "execution_count": 22,
   "id": "d5e8bddb",
   "metadata": {},
   "outputs": [
    {
     "name": "stderr",
     "output_type": "stream",
     "text": [
      "2025-07-15 01:54:45,368 - INFO - --- Setting up Model Evaluator ---\n",
      "2025-07-15 01:54:45,372 - INFO - Performing data split and scaling...\n",
      "2025-07-15 01:54:45,382 - INFO - Training data shape: X=(1354, 24), y=(1354,)\n",
      "2025-07-15 01:54:45,384 - INFO - Testing data shape: X=(338, 24), y=(338,)\n",
      "2025-07-15 01:54:45,385 - INFO - Test Y index shape: 338\n",
      "2025-07-15 01:54:45,387 - INFO - ModelEvaluator initialized with data splits.\n"
     ]
    },
    {
     "name": "stdout",
     "output_type": "stream",
     "text": [
      "Train X scaled shape: (1354, 24)\n",
      "Test X scaled shape: (338, 24)\n",
      "Train Y shape: (1354,)\n",
      "Test Y shape: (338,)\n"
     ]
    }
   ],
   "source": [
    "# Cell 5: Model Evaluation Setup\n",
    "\n",
    "logger.info(\"--- Setting up Model Evaluator ---\")\n",
    "evaluator = ModelEvaluator(df_lagged_features, training_data_fraction=TRAINING_DATA_FRACTION)\n",
    "logger.info(\"ModelEvaluator initialized with data splits.\")\n",
    "print(f\"Train X scaled shape: {evaluator.train_X_scaled.shape}\")\n",
    "print(f\"Test X scaled shape: {evaluator.test_X_scaled.shape}\")\n",
    "print(f\"Train Y shape: {evaluator.train_Y_np.shape}\")\n",
    "print(f\"Test Y shape: {evaluator.test_Y_np.shape}\")"
   ]
  },
  {
   "cell_type": "code",
   "execution_count": null,
   "id": "1aacf6fd",
   "metadata": {},
   "outputs": [
    {
     "name": "stderr",
     "output_type": "stream",
     "text": [
      "2025-07-15 01:56:42,701 - INFO - --- Starting Model Training and Evaluation ---\n",
      "2025-07-15 01:56:42,704 - INFO - --- Starting evaluation for Linear Regression (courselib) ---\n"
     ]
    },
    {
     "name": "stdout",
     "output_type": "stream",
     "text": [
      "\n",
      "Evaluating Courserlib Linear Regression...\n"
     ]
    },
    {
     "name": "stderr",
     "output_type": "stream",
     "text": [
      "2025-07-15 01:56:47,968 - INFO - Model LinearRegression trained successfully.\n",
      "2025-07-15 01:56:47,969 - INFO - Predictions generated for LinearRegression.\n",
      "2025-07-15 01:56:47,970 - INFO - Model Linear Regression (courselib) - Test MSE: 137.2916, Test MAE: 12.9962, Test RMSE: 11.7171\n",
      "2025-07-15 01:56:47,971 - INFO - --- Finished evaluation for Linear Regression (courselib) ---\n",
      "2025-07-15 01:56:47,973 - INFO - --- Starting evaluation for Scikit-learn Linear Regression ---\n",
      "2025-07-15 01:56:47,978 - INFO - Model LinearRegression trained successfully.\n",
      "2025-07-15 01:56:47,981 - INFO - Predictions generated for LinearRegression.\n",
      "2025-07-15 01:56:47,984 - INFO - Model Scikit-learn Linear Regression - Test MSE: 137.2350, Test MAE: 12.9937, Test RMSE: 11.7147\n",
      "2025-07-15 01:56:47,986 - INFO - --- Finished evaluation for Scikit-learn Linear Regression ---\n",
      "2025-07-15 01:56:47,989 - INFO - --- Starting evaluation for Scikit-learn Ridge Regression ---\n",
      "2025-07-15 01:56:47,996 - INFO - Model Ridge trained successfully.\n",
      "2025-07-15 01:56:48,002 - INFO - Predictions generated for Ridge.\n",
      "2025-07-15 01:56:48,004 - INFO - Model Scikit-learn Ridge Regression - Test MSE: 137.4203, Test MAE: 13.0057, Test RMSE: 11.7226\n",
      "2025-07-15 01:56:48,006 - INFO - --- Finished evaluation for Scikit-learn Ridge Regression ---\n",
      "2025-07-15 01:56:48,007 - INFO - --- Calculating Naive Baseline ---\n",
      "2025-07-15 01:56:48,008 - INFO - Naive Baseline - Test MSE: 158.8669, MAE: 13.8402, RMSE: 12.6042\n",
      "2025-07-15 01:56:48,011 - INFO - --- Finished Naive Baseline Calculation ---\n",
      "2025-07-15 01:56:48,012 - INFO - --- All Model Evaluations Complete ---\n"
     ]
    },
    {
     "name": "stdout",
     "output_type": "stream",
     "text": [
      "\n",
      "Evaluating Scikit-learn Linear Regression...\n",
      "\n",
      "Evaluating Scikit-learn Ridge Regression...\n",
      "\n",
      "Evaluating Naive Baseline...\n"
     ]
    }
   ],
   "source": [
    "# Cell 6: Model Training and Evaluation\n",
    "\n",
    "logger.info(\"--- Starting Model Training and Evaluation ---\")\n",
    "\n",
    "# Courserlib Linear Regression\n",
    "print(\"\\nEvaluating Courserlib Linear Regression...\")\n",
    "optimizer = GDOptimizer(learning_rate=0.01)\n",
    "# Note: Initial weights should match the number of features (LAG_DEPTH)\n",
    "courselib_lr_model = LinearRegression(w=np.zeros(LAG_DEPTH), b=0.0, optimizer=optimizer)\n",
    "evaluator.evaluate_model(\n",
    "    \"Linear Regression (courselib)\", \n",
    "    courselib_lr_model, \n",
    "    is_courselib_model=True,\n",
    "    num_epochs=2000, \n",
    "    batch_size=32\n",
    ")\n",
    "\n",
    "# Scikit-learn Linear Regression\n",
    "print(\"\\nEvaluating Scikit-learn Linear Regression...\")\n",
    "sklearn_lr_model = SklearnLinearRegression()\n",
    "evaluator.evaluate_model(\"Scikit-learn Linear Regression\", sklearn_lr_model)\n",
    "\n",
    "# Scikit-learn Ridge Regression\n",
    "print(\"\\nEvaluating Scikit-learn Ridge Regression...\")\n",
    "ridge_model = Ridge(alpha=1.0) \n",
    "evaluator.evaluate_model(\"Scikit-learn Ridge Regression\", ridge_model)\n",
    "\n",
    "# Naive Baseline\n",
    "print(\"\\nEvaluating Naive Baseline...\")\n",
    "evaluator.evaluate_naive_baseline()\n",
    "\n",
    "logger.info(\"--- All Model Evaluations Complete ---\")"
   ]
  },
  {
   "cell_type": "code",
   "execution_count": 26,
   "id": "afe7ed44",
   "metadata": {},
   "outputs": [
    {
     "name": "stderr",
     "output_type": "stream",
     "text": [
      "2025-07-15 01:56:48,044 - INFO - \n",
      "--- Summary of All Model Results ---\n"
     ]
    },
    {
     "data": {
      "text/html": [
       "<div>\n",
       "<style scoped>\n",
       "    .dataframe tbody tr th:only-of-type {\n",
       "        vertical-align: middle;\n",
       "    }\n",
       "\n",
       "    .dataframe tbody tr th {\n",
       "        vertical-align: top;\n",
       "    }\n",
       "\n",
       "    .dataframe thead th {\n",
       "        text-align: right;\n",
       "    }\n",
       "</style>\n",
       "<table border=\"1\" class=\"dataframe\">\n",
       "  <thead>\n",
       "    <tr style=\"text-align: right;\">\n",
       "      <th></th>\n",
       "      <th>Model</th>\n",
       "      <th>MAE</th>\n",
       "      <th>MSE</th>\n",
       "      <th>RMSE</th>\n",
       "    </tr>\n",
       "  </thead>\n",
       "  <tbody>\n",
       "    <tr>\n",
       "      <th>0</th>\n",
       "      <td>Linear Regression (courselib)</td>\n",
       "      <td>12.9962</td>\n",
       "      <td>137.2916</td>\n",
       "      <td>11.7171</td>\n",
       "    </tr>\n",
       "    <tr>\n",
       "      <th>1</th>\n",
       "      <td>Scikit-learn Linear Regression</td>\n",
       "      <td>12.9937</td>\n",
       "      <td>137.2350</td>\n",
       "      <td>11.7147</td>\n",
       "    </tr>\n",
       "    <tr>\n",
       "      <th>2</th>\n",
       "      <td>Scikit-learn Ridge Regression</td>\n",
       "      <td>13.0057</td>\n",
       "      <td>137.4203</td>\n",
       "      <td>11.7226</td>\n",
       "    </tr>\n",
       "    <tr>\n",
       "      <th>3</th>\n",
       "      <td>Naive Baseline</td>\n",
       "      <td>13.8402</td>\n",
       "      <td>158.8669</td>\n",
       "      <td>12.6042</td>\n",
       "    </tr>\n",
       "  </tbody>\n",
       "</table>\n",
       "</div>"
      ],
      "text/plain": [
       "                            Model      MAE       MSE     RMSE\n",
       "0   Linear Regression (courselib)  12.9962  137.2916  11.7171\n",
       "1  Scikit-learn Linear Regression  12.9937  137.2350  11.7147\n",
       "2   Scikit-learn Ridge Regression  13.0057  137.4203  11.7226\n",
       "3                  Naive Baseline  13.8402  158.8669  12.6042"
      ]
     },
     "metadata": {},
     "output_type": "display_data"
    }
   ],
   "source": [
    "# Cell 7: Results Summary\n",
    "\n",
    "logger.info(\"\\n--- Summary of All Model Results ---\")\n",
    "all_results = evaluator.get_results()\n",
    "\n",
    "# Create a DataFrame for cleaner display\n",
    "summary_data = []\n",
    "for model_name, metrics_data in all_results.items():\n",
    "    row = {\"Model\": model_name}\n",
    "    # Filter out non-metric keys for display\n",
    "    for k, v in metrics_data.items():\n",
    "        if k not in [\"model_object\", \"y_pred\"]:\n",
    "            row[k.upper()] = f\"{v:.4f}\" # Format metrics for consistent display\n",
    "    summary_data.append(row)\n",
    "\n",
    "results_df = pd.DataFrame(summary_data)\n",
    "# Reorder columns to have Model first, then metrics\n",
    "metric_cols = [col for col in results_df.columns if col != 'Model']\n",
    "results_df = results_df[['Model'] + sorted(metric_cols)]\n",
    "\n",
    "display(results_df)"
   ]
  },
  {
   "cell_type": "code",
   "execution_count": 27,
   "id": "59e4984f",
   "metadata": {},
   "outputs": [
    {
     "name": "stderr",
     "output_type": "stream",
     "text": [
      "2025-07-15 01:57:47,749 - INFO - \n",
      "--- Starting Visualization ---\n",
      "d:\\Studium\\Excercises\\Applied ML\\appliedML-air-quality\\src\\visualization\\analysis.py:164: FutureWarning: DataFrameGroupBy.apply operated on the grouping columns. This behavior is deprecated, and in a future version of pandas the grouping columns will be excluded from the operation. Either pass `include_groups=False` to exclude the groupings or explicitly select the grouping columns after groupby to silence this warning.\n",
      "  mae_by_group = df.groupby('group').apply(lambda g: mean_absolute_error(g['y_true'], g['y_pred']))\n"
     ]
    },
    {
     "name": "stdout",
     "output_type": "stream",
     "text": [
      "\n",
      "Plotting error by hour for Linear Regression (courselib)...\n"
     ]
    },
    {
     "data": {
      "image/png": "[encoded data removed]",
      "text/plain": [
       "<Figure size 1000x500 with 1 Axes>"
      ]
     },
     "metadata": {},
     "output_type": "display_data"
    },
    {
     "name": "stdout",
     "output_type": "stream",
     "text": [
      "\n",
      "Plotting error by weekday for Scikit-learn Ridge Regression...\n"
     ]
    },
    {
     "name": "stderr",
     "output_type": "stream",
     "text": [
      "d:\\Studium\\Excercises\\Applied ML\\appliedML-air-quality\\src\\visualization\\analysis.py:164: FutureWarning: DataFrameGroupBy.apply operated on the grouping columns. This behavior is deprecated, and in a future version of pandas the grouping columns will be excluded from the operation. Either pass `include_groups=False` to exclude the groupings or explicitly select the grouping columns after groupby to silence this warning.\n",
      "  mae_by_group = df.groupby('group').apply(lambda g: mean_absolute_error(g['y_true'], g['y_pred']))\n"
     ]
    },
    {
     "data": {
      "image/png": "[encoded data removed]",
      "text/plain": [
       "<Figure size 1000x500 with 1 Axes>"
      ]
     },
     "metadata": {},
     "output_type": "display_data"
    },
    {
     "name": "stderr",
     "output_type": "stream",
     "text": [
      "2025-07-15 01:57:49,243 - INFO - --- Visualization Complete ---\n"
     ]
    }
   ],
   "source": [
    "# Cell 8: Visualization - Error by Time Group (Example)\n",
    "\n",
    "logger.info(\"\\n--- Starting Visualization ---\")\n",
    "\n",
    "y_test_series_for_plot = evaluator.get_test_Y_series()\n",
    "\n",
    "# Plot for Courserlib Linear Regression\n",
    "y_pred_courselib_series = evaluator.get_predictions_series_for_model(\"Linear Regression (courselib)\")\n",
    "if not y_pred_courselib_series.empty:\n",
    "    print(\"\\nPlotting error by hour for Linear Regression (courselib)...\")\n",
    "    plot_error_by_time_group(y_test_series_for_plot, y_pred_courselib_series, group_by='hour')\n",
    "else:\n",
    "    logger.warning(\"No predictions available for Linear Regression (courselib) for plotting.\")\n",
    "\n",
    "# Plot for Scikit-learn Ridge Regression\n",
    "y_pred_ridge_series = evaluator.get_predictions_series_for_model(\"Scikit-learn Ridge Regression\")\n",
    "if not y_pred_ridge_series.empty:\n",
    "    print(\"\\nPlotting error by weekday for Scikit-learn Ridge Regression...\")\n",
    "    plot_error_by_time_group(y_test_series_for_plot, y_pred_ridge_series, group_by='weekday')\n",
    "else:\n",
    "    logger.warning(\"No predictions available for Scikit-learn Ridge Regression for plotting.\")\n",
    "\n",
    "logger.info(\"--- Visualization Complete ---\")"
   ]
  }
 ],
 "metadata": {
  "kernelspec": {
   "display_name": ".venv",
   "language": "python",
   "name": "python3"
  },
  "language_info": {
   "codemirror_mode": {
    "name": "ipython",
    "version": 3
   },
   "file_extension": ".py",
   "mimetype": "text/x-python",
   "name": "python",
   "nbconvert_exporter": "python",
   "pygments_lexer": "ipython3",
   "version": "3.10.16"
  }
 },
 "nbformat": 4,
 "nbformat_minor": 5
}
