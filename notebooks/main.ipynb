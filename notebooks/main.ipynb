{
 "cells": [
  {
   "cell_type": "code",
   "execution_count": 2,
   "id": "e27ec662",
   "metadata": {},
   "outputs": [
    {
     "name": "stderr",
     "output_type": "stream",
     "text": [
      "2025-07-15 21:31:04,840 - INFO - All necessary modules and libraries imported.\n"
     ]
    },
    {
     "name": "stdout",
     "output_type": "stream",
     "text": [
      "The autoreload extension is already loaded. To reload it, use:\n",
      "  %reload_ext autoreload\n"
     ]
    }
   ],
   "source": [
    "# --- Notebook Setup and Imports ---\n",
    "# Enable autoreloading of imported modules\n",
    "%load_ext autoreload\n",
    "%autoreload 2\n",
    "\n",
    "import sys\n",
    "import os\n",
    "import pandas as pd\n",
    "import numpy as np\n",
    "import matplotlib.pyplot as plt\n",
    "import logging\n",
    "\n",
    "# Configure basic logging for visibility\n",
    "logging.basicConfig(level=logging.INFO, format='%(asctime)s - %(levelname)s - %(message)s')\n",
    "logger = logging.getLogger(__name__)\n",
    "\n",
    "# Add project root to sys.path to enable absolute imports from 'src'\n",
    "project_root = os.path.abspath(os.path.join(os.getcwd(), '..'))\n",
    "if project_root not in sys.path:\n",
    "    sys.path.insert(0, project_root)\n",
    "\n",
    "# Add courselib parent path to sys.path\n",
    "courselib_parent_path = os.path.abspath(os.path.join(project_root, \"..\", \"AppliedML\"))\n",
    "if courselib_parent_path not in sys.path:\n",
    "    sys.path.insert(0, courselib_parent_path)\n",
    "\n",
    "# --- Configure Logging ---\n",
    "if not logging.root.handlers:\n",
    "    logging.basicConfig(level=logging.INFO,\n",
    "                        format='%(asctime)s - %(name)s - %(levelname)s - %(message)s')\n",
    "logger = logging.getLogger(__name__)\n",
    "\n",
    "# --- Import Project-Specific Modules ---\n",
    "from src.data.data_processor import AirQualityProcessor\n",
    "from src.features.feature_engineer import LagFeatureEngineer\n",
    "from src.models.train_model import ModelEvaluator\n",
    "from src.models.model_selection import evaluate_lag_depth_effect\n",
    "from src.visualization.analysis import (\n",
    "    plot_acf_pacf, \n",
    "    plot_error_by_time_group\n",
    ")\n",
    "from src.visualization.plotting import (\n",
    "    plot_time_series,\n",
    "    plot_residuals,\n",
    "    plot_coefficients,\n",
    "    plot_predictions_vs_actual,\n",
    "    plot_error_by_time_group,\n",
    "    plot_lag_depth_results\n",
    ")\n",
    "from src.utils.config import TARGET_POLLUTANT, START_DATE, END_DATE, LAG_DEPTH # LAG_DEPTH for initial setup example\n",
    "\n",
    "# --- Import External Libraries for Models ---\n",
    "from courselib.models.linear_models import LinearRegression\n",
    "from courselib.optimizers import GDOptimizer\n",
    "from sklearn.linear_model import Ridge # Example scikit-learn model\n",
    "\n",
    "# For better display of DataFrames in Jupyter\n",
    "from IPython.display import display\n",
    "\n",
    "logger.info(\"All necessary modules and libraries imported.\")"
   ]
  },
  {
   "cell_type": "code",
   "execution_count": 3,
   "id": "3e193c8d",
   "metadata": {},
   "outputs": [
    {
     "name": "stderr",
     "output_type": "stream",
     "text": [
      "2025-07-15 21:32:48,993 - INFO - Pipeline configuration loaded.\n"
     ]
    }
   ],
   "source": [
    "# --- Configuration ---\n",
    "\n",
    "# --- Pipeline Parameters ---\n",
    "# Data parameters\n",
    "PIPELINE_TARGET_POLLUTANT = TARGET_POLLUTANT # From utils/config.py\n",
    "PIPELINE_START_DATE = START_DATE           # From utils/config.py\n",
    "PIPELINE_END_DATE = END_DATE               # From utils/config.py\n",
    "\n",
    "# Lag depths for comprehensive evaluation\n",
    "PIPELINE_TEST_LAGS = [1, 2, 3, 6, 12, 24, 48] # Example lags to test\n",
    "\n",
    "# Model configurations for comprehensive evaluation\n",
    "# These match what's expected by model_selection.py and train_model_class.py\n",
    "PIPELINE_MODEL_CONFIGS = {\n",
    "    \"Courselib LR (GD 0.0001)\": {\n",
    "        \"model_class\": LinearRegression,\n",
    "        \"is_courselib_model\": True,\n",
    "        \"optimizer\": GDOptimizer(learning_rate=0.0001),\n",
    "        \"fit_params\": {\"num_epochs\": 2000, \"batch_size\": 32}\n",
    "    },\n",
    "    \"Courselib LR (GD 0.001)\": {\n",
    "        \"model_class\": LinearRegression,\n",
    "        \"is_courselib_model\": True,\n",
    "        \"optimizer\": GDOptimizer(learning_rate=0.001),\n",
    "        \"fit_params\": {\"num_epochs\": 2000, \"batch_size\": 32}\n",
    "    },\n",
    "    \"Scikit-learn Ridge (Alpha 1.0)\": {\n",
    "        \"model_class\": Ridge,\n",
    "        \"is_courselib_model\": False,\n",
    "        \"init_params\": {\"alpha\": 1.0}\n",
    "    },\n",
    "    \"Scikit-learn Ridge (Alpha 0.1)\": {\n",
    "        \"model_class\": Ridge,\n",
    "        \"is_courselib_model\": False,\n",
    "        \"init_params\": {\"alpha\": 0.1}\n",
    "    }\n",
    "}\n",
    "\n",
    "logger.info(\"Pipeline configuration loaded.\")"
   ]
  },
  {
   "cell_type": "code",
   "execution_count": null,
   "id": "1e1ddabe",
   "metadata": {},
   "outputs": [],
   "source": [
    "# --- Data Loading and Initial Exploration ---\n",
    "\n",
    "logger.info(\"--- Data Loading and Initial Exploration ---\")\n",
    "\n",
    "try:\n",
    "    processor = AirQualityProcessor(\n",
    "        target_pollutant=PIPELINE_TARGET_POLLUTANT,\n",
    "        start_date=PIPELINE_START_DATE,\n",
    "        end_date=PIPELINE_END_DATE\n",
    "    )\n",
    "    time_series = processor.get_target_time_series()\n",
    "    \n",
    "    if time_series.empty:\n",
    "        logger.error(\"Initial time series data is empty. Please check data source and dates.\")\n",
    "    else:\n",
    "        logger.info(f\"Loaded time series data for {PIPELINE_TARGET_POLLUTANT} \"\n",
    "                    f\"from {PIPELINE_START_DATE} to {PIPELINE_END_DATE}. Shape: {time_series.shape}\")\n",
    "        \n",
    "        print(\"\\nFirst 5 rows of the time series:\")\n",
    "        display(time_series.head())\n",
    "        print(\"\\nTime series basic info:\")\n",
    "        time_series.info()\n",
    "        print(\"\\nTime series descriptive statistics:\")\n",
    "        display(time_series.describe())\n",
    "\n",
    "        # Plot Initial Time Series\n",
    "        plot_time_series(time_series, title=f\"{PIPELINE_TARGET_POLLUTANT} Time Series\", \n",
    "                         ylabel=f\"{PIPELINE_TARGET_POLLUTANT} (µg/m³)\")\n",
    "        \n",
    "        # Plot Initial ACF/PACF Analysis\n",
    "        plot_acf_pacf(time_series, lags=48)\n",
    "\n",
    "except Exception as e:\n",
    "    logger.exception(\"An error occurred during data loading or initial visualization.\")"
   ]
  }
 ],
 "metadata": {
  "kernelspec": {
   "display_name": ".venv",
   "language": "python",
   "name": "python3"
  },
  "language_info": {
   "codemirror_mode": {
    "name": "ipython",
    "version": 3
   },
   "file_extension": ".py",
   "mimetype": "text/x-python",
   "name": "python",
   "nbconvert_exporter": "python",
   "pygments_lexer": "ipython3",
   "version": "3.10.16"
  }
 },
 "nbformat": 4,
 "nbformat_minor": 5
}
